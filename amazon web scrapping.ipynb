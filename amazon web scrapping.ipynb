{
 "cells": [
  {
   "cell_type": "code",
   "execution_count": 3,
   "id": "f02bc62b",
   "metadata": {},
   "outputs": [],
   "source": [
    "from bs4 import BeautifulSoup\n",
    "import requests\n",
    "import time\n",
    "import datetime\n",
    "\n",
    "import smtplib"
   ]
  },
  {
   "cell_type": "code",
   "execution_count": 83,
   "id": "db24f98f",
   "metadata": {},
   "outputs": [
    {
     "name": "stdout",
     "output_type": "stream",
     "text": [
      "\n",
      "            Park Avenue Men’s Perfume | Livewire | Eau De Parfum, 100 ml | Premium Perfume for Men\n",
      "           \n",
      "\n",
      "\n",
      "\n",
      "\n",
      "            -50%\n",
      "           \n",
      "\n",
      "\n",
      "             ₹603\n",
      "            \n",
      "\n",
      "\n",
      "              ₹\n",
      "             \n",
      "\n",
      "              603\n",
      "             \n",
      "\n",
      "\n",
      "\n",
      "\n",
      "\n",
      "            (\n",
      "            \n",
      "\n",
      "              ₹6.03\n",
      "             \n",
      "\n",
      "              ₹6.03\n",
      "             \n",
      "\n",
      "            / millilitre)\n",
      "           \n",
      "\n",
      "\n",
      "\n",
      "\n",
      "             M.R.P.:\n",
      "             \n",
      "\n",
      "               ₹1,200\n",
      "              \n",
      "\n",
      "               ₹1,200\n",
      "              \n",
      "\n",
      "\n",
      "\n",
      "\n",
      "\n",
      "\n",
      "\n",
      "\n",
      "\n"
     ]
    }
   ],
   "source": [
    "URL = 'https://www.amazon.in/Park-Avenue-Livewire-Premium-Perfume/dp/B0BBH3HYC8/ref=pd_bxgy_img_sccl_2/262-3039640-1859610?pd_rd_w=9eCYa&content-id=amzn1.sym.2f895d58-7662-42b2-9a98-3a18d26bef33&pf_rd_p=2f895d58-7662-42b2-9a98-3a18d26bef33&pf_rd_r=7NGG7MTR314J6ZQ81368&pd_rd_wg=U1CiF&pd_rd_r=0b2e2b53-9338-4765-860f-e6999f666ba1&pd_rd_i=B0BBH3HYC8&psc=1'\n",
    "headers = {\"User-Agent\": \"Mozilla/5.0 (Windows NT 10.0; Win64; x64) AppleWebKit/537.36 (KHTML, like Gecko) Chrome/78.0.3904.108 Safari/537.36\", \"Accept-Encoding\":\"gzip, deflate\", \"Accept\":\"text/html,application/xhtml+xml,application/xml;q=0.9,*/*;q=0.8\", \"DNT\":\"1\",\"Connection\":\"close\", \"Upgrade-Insecure-Requests\":\"1\"}\n",
    "\n",
    "page = requests.get(URL,headers=headers)\n",
    "soup1 = BeautifulSoup(page.content,\"html.parser\")\n",
    "soup2 = BeautifulSoup(soup1.prettify(), \"html.parser\")\n",
    "title = soup2.find(id='productTitle').get_text()\n",
    "price = soup2.find(id='corePriceDisplay_desktop_feature_div').get_text()\n",
    "\n",
    "print(title)\n",
    "print(price)\n",
    "\n",
    "\n",
    "\n",
    "\n"
   ]
  },
  {
   "cell_type": "code",
   "execution_count": 68,
   "id": "aebc0e61",
   "metadata": {},
   "outputs": [
    {
     "name": "stdout",
     "output_type": "stream",
     "text": [
      "Park Avenue Men’s Perfume | Livewire | Eau De Parfum, 100 ml | Premium Perfume for Men\n"
     ]
    }
   ],
   "source": [
    "print(title)"
   ]
  },
  {
   "cell_type": "code",
   "execution_count": 86,
   "id": "920d1cb1",
   "metadata": {},
   "outputs": [
    {
     "name": "stdout",
     "output_type": "stream",
     "text": [
      "603\n"
     ]
    }
   ],
   "source": [
    "print(price)"
   ]
  },
  {
   "cell_type": "code",
   "execution_count": 84,
   "id": "8bcfd67f",
   "metadata": {},
   "outputs": [
    {
     "name": "stdout",
     "output_type": "stream",
     "text": [
      "Park Avenue Men’s Perfume | Livewire | Eau De Parfum, 100 ml | Premium Perfume for Men\n",
      "603\n"
     ]
    }
   ],
   "source": [
    "price = price.strip()[33:36]\n",
    "title = title.strip()\n",
    "\n",
    "print(title)\n",
    "print(price)"
   ]
  },
  {
   "cell_type": "code",
   "execution_count": 88,
   "id": "c3dbc108",
   "metadata": {},
   "outputs": [
    {
     "name": "stdout",
     "output_type": "stream",
     "text": [
      "2023-05-06\n"
     ]
    }
   ],
   "source": [
    "import datetime\n",
    "\n",
    "today = datetime.date.today()\n",
    "\n",
    "print(today)"
   ]
  },
  {
   "cell_type": "code",
   "execution_count": 101,
   "id": "1c50bce3",
   "metadata": {},
   "outputs": [],
   "source": [
    "import csv\n",
    "\n",
    "header = ['TITLE','PRICE','Date']\n",
    "data = [title,price,today]\n",
    "\n",
    "#with open('amazonwebscrapping.csv', 'w', newline='', encoding='UTF8') as A:\n",
    " #   writer = csv.writer(A)\n",
    "  #  writer.writerow(header)\n",
    "   # writer.writerow(data)\n",
    "\n"
   ]
  },
  {
   "cell_type": "code",
   "execution_count": 106,
   "id": "4a527275",
   "metadata": {},
   "outputs": [
    {
     "name": "stdout",
     "output_type": "stream",
     "text": [
      "                                               TITLE  PRICE        Date\n",
      "0  Park Avenue Men’s Perfume | Livewire | Eau De ...    603  2023-05-06\n",
      "1  Park Avenue Men’s Perfume | Livewire | Eau De ...    603  2023-05-06\n",
      "2  Park Avenue Men’s Perfume | Livewire | Eau De ...    603  2023-05-06\n"
     ]
    }
   ],
   "source": [
    "import pandas as pd\n",
    "\n",
    "df = pd.read_csv(r'C:\\Users\\HP\\amazonwebscrapping.csv')\n",
    "\n",
    "print(df)\n",
    "\n"
   ]
  },
  {
   "cell_type": "code",
   "execution_count": 105,
   "id": "5dea7f6e",
   "metadata": {},
   "outputs": [],
   "source": [
    "with open('amazonwebscrapping.csv', 'a+', newline='', encoding='UTF8') as A:\n",
    "    writer = csv.writer(A)\n",
    "    writer.writerow(data)\n"
   ]
  },
  {
   "cell_type": "code",
   "execution_count": 113,
   "id": "05597431",
   "metadata": {},
   "outputs": [],
   "source": [
    "def check_price():\n",
    "    URL = 'https://www.amazon.in/Park-Avenue-Livewire-Premium-Perfume/dp/B0BBH3HYC8/ref=pd_bxgy_img_sccl_2/262-3039640-1859610?pd_rd_w=9eCYa&content-id=amzn1.sym.2f895d58-7662-42b2-9a98-3a18d26bef33&pf_rd_p=2f895d58-7662-42b2-9a98-3a18d26bef33&pf_rd_r=7NGG7MTR314J6ZQ81368&pd_rd_wg=U1CiF&pd_rd_r=0b2e2b53-9338-4765-860f-e6999f666ba1&pd_rd_i=B0BBH3HYC8&psc=1'\n",
    "    headers = {\"User-Agent\": \"Mozilla/5.0 (Windows NT 10.0; Win64; x64) AppleWebKit/537.36 (KHTML, like Gecko) Chrome/78.0.3904.108 Safari/537.36\", \"Accept-Encoding\":\"gzip, deflate\", \"Accept\":\"text/html,application/xhtml+xml,application/xml;q=0.9,*/*;q=0.8\", \"DNT\":\"1\",\"Connection\":\"close\", \"Upgrade-Insecure-Requests\":\"1\"}\n",
    "\n",
    "    page = requests.get(URL,headers=headers)\n",
    "    soup1 = BeautifulSoup(page.content,\"html.parser\")\n",
    "    soup2 = BeautifulSoup(soup1.prettify(), \"html.parser\")\n",
    "    title = soup2.find(id='productTitle').get_text()\n",
    "    price = soup2.find(id='corePriceDisplay_desktop_feature_div').get_text()\n",
    "\n",
    "    price = price.strip()[33:36]\n",
    "    title = title.strip()\n",
    "    \n",
    "    import datetime\n",
    "\n",
    "    today = datetime.date.today()\n",
    "    \n",
    "    import csv\n",
    "\n",
    "    header = ['TITLE','PRICE','Date']\n",
    "    data = [title,price,today]\n",
    "    \n",
    "    with open('amazonwebscrapping.csv', 'a+', newline='', encoding='UTF8') as A:\n",
    "        writer = csv.writer(A)\n",
    "        writer.writerow(data)\n",
    "\n",
    "\n"
   ]
  },
  {
   "cell_type": "code",
   "execution_count": null,
   "id": "edd1a76c",
   "metadata": {},
   "outputs": [],
   "source": [
    "while(True):\n",
    "    check_price()\n",
    "    time.sleep(43200)"
   ]
  },
  {
   "cell_type": "code",
   "execution_count": null,
   "id": "04ddbd33",
   "metadata": {},
   "outputs": [],
   "source": []
  }
 ],
 "metadata": {
  "kernelspec": {
   "display_name": "Python 3 (ipykernel)",
   "language": "python",
   "name": "python3"
  },
  "language_info": {
   "codemirror_mode": {
    "name": "ipython",
    "version": 3
   },
   "file_extension": ".py",
   "mimetype": "text/x-python",
   "name": "python",
   "nbconvert_exporter": "python",
   "pygments_lexer": "ipython3",
   "version": "3.10.9"
  }
 },
 "nbformat": 4,
 "nbformat_minor": 5
}
